{
 "cells": [
  {
   "cell_type": "code",
   "execution_count": 1,
   "metadata": {},
   "outputs": [],
   "source": [
    "from __future__ import print_function\n",
    "import tensorflow as tf\n",
    "import numpy\n",
    "import matplotlib.pyplot as plt"
   ]
  },
  {
   "cell_type": "code",
   "execution_count": 2,
   "metadata": {},
   "outputs": [],
   "source": [
    "rng = numpy.random\n",
    "\n",
    "# Parameters\n",
    "learning_rate = 0.01\n",
    "training_epochs = 1000\n",
    "display_step = 50\n",
    "\n",
    "# Training Data\n",
    "train_X = numpy.asarray([3.3,4.4,5.5,6.71,6.93,4.168,9.779,6.182,7.59,2.167,\n",
    "                         7.042,10.791,5.313,7.997,5.654,9.27,3.1])\n",
    "train_Y = numpy.asarray([1.7,2.76,2.09,3.19,1.694,1.573,3.366,2.596,2.53,1.221,\n",
    "                         2.827,3.465,1.65,2.904,2.42,2.94,1.3])"
   ]
  },
  {
   "cell_type": "code",
   "execution_count": 3,
   "metadata": {},
   "outputs": [],
   "source": [
    "# tf Graph Input\n",
    "X = tf.placeholder(\"float\")\n",
    "Y = tf.placeholder(\"float\")\n",
    "\n",
    "# Set model weights\n",
    "W = tf.Variable(rng.randn(), name=\"weight\")\n",
    "b = tf.Variable(rng.randn(), name=\"bias\")\n",
    "\n",
    "# Construct a linear model\n",
    "pred = tf.add(tf.multiply(X, W), b)"
   ]
  },
  {
   "cell_type": "code",
   "execution_count": 4,
   "metadata": {},
   "outputs": [
    {
     "name": "stdout",
     "output_type": "stream",
     "text": [
      "WARNING:tensorflow:From C:\\Users\\salee\\Anaconda3\\lib\\site-packages\\tensorflow\\python\\ops\\math_grad.py:1205: add_dispatch_support.<locals>.wrapper (from tensorflow.python.ops.array_ops) is deprecated and will be removed in a future version.\n",
      "Instructions for updating:\n",
      "Use tf.where in 2.0, which has the same broadcast rule as np.where\n",
      "Epoch: 0050 cost= 0.077896543 W= 0.23301734 b= 0.92071503\n",
      "Epoch: 0100 cost= 0.077793397 W= 0.23400304 b= 0.91362405\n",
      "Epoch: 0150 cost= 0.077702090 W= 0.23493019 b= 0.90695405\n",
      "Epoch: 0200 cost= 0.077621199 W= 0.23580217 b= 0.90068066\n",
      "Epoch: 0250 cost= 0.077549607 W= 0.23662245 b= 0.8947801\n",
      "Epoch: 0300 cost= 0.077486195 W= 0.23739387 b= 0.8892304\n",
      "Epoch: 0350 cost= 0.077430040 W= 0.2381194 b= 0.88401115\n",
      "Epoch: 0400 cost= 0.077380314 W= 0.23880175 b= 0.8791022\n",
      "Epoch: 0450 cost= 0.077336259 W= 0.23944357 b= 0.87448514\n",
      "Epoch: 0500 cost= 0.077297218 W= 0.24004725 b= 0.8701419\n",
      "Epoch: 0550 cost= 0.077262647 W= 0.240615 b= 0.86605805\n",
      "Epoch: 0600 cost= 0.077232026 W= 0.241149 b= 0.8622164\n",
      "Epoch: 0650 cost= 0.077204883 W= 0.24165119 b= 0.8586035\n",
      "Epoch: 0700 cost= 0.077180825 W= 0.24212357 b= 0.8552053\n",
      "Epoch: 0750 cost= 0.077159517 W= 0.24256784 b= 0.85200924\n",
      "Epoch: 0800 cost= 0.077140629 W= 0.2429858 b= 0.84900266\n",
      "Epoch: 0850 cost= 0.077123895 W= 0.24337876 b= 0.84617543\n",
      "Epoch: 0900 cost= 0.077109024 W= 0.24374858 b= 0.84351516\n",
      "Epoch: 0950 cost= 0.077095874 W= 0.24409617 b= 0.8410142\n",
      "Epoch: 1000 cost= 0.077084191 W= 0.24442326 b= 0.83866143\n",
      "Optimization Finished!\n",
      "Training cost= 0.07708419 W= 0.24442326 b= 0.83866143 \n",
      "\n"
     ]
    },
    {
     "data": {
      "image/png": "[encoded data removed]",
      "text/plain": [
       "<Figure size 432x288 with 1 Axes>"
      ]
     },
     "metadata": {
      "needs_background": "light"
     },
     "output_type": "display_data"
    }
   ],
   "source": [
    "n_samples = train_X.shape[0]\n",
    "\n",
    "# Mean squared error\n",
    "cost = tf.reduce_sum(tf.pow(pred-Y, 2))/(2*n_samples)\n",
    "\n",
    "# Gradient descent\n",
    "#  Note, minimize() knows to modify W and b because Variable objects are trainable=True by default\n",
    "optimizer = tf.train.GradientDescentOptimizer(learning_rate).minimize(cost)\n",
    "\n",
    "# Initialize the variables (i.e. assign their default value)\n",
    "init = tf.global_variables_initializer()\n",
    "\n",
    "# Start training\n",
    "with tf.Session() as sess:\n",
    "\n",
    "    # Run the initializer\n",
    "    sess.run(init)\n",
    "\n",
    "    # Fit all training data\n",
    "    for epoch in range(training_epochs):\n",
    "        for (x, y) in zip(train_X, train_Y):\n",
    "            sess.run(optimizer, feed_dict={X: x, Y: y})\n",
    "\n",
    "        # Display logs per epoch step\n",
    "        if (epoch+1) % display_step == 0:\n",
    "            c = sess.run(cost, feed_dict={X: train_X, Y:train_Y})\n",
    "            print(\"Epoch:\", '%04d' % (epoch+1), \"cost=\", \"{:.9f}\".format(c), \\\n",
    "                \"W=\", sess.run(W), \"b=\", sess.run(b))\n",
    "\n",
    "    print(\"Optimization Finished!\")\n",
    "    training_cost = sess.run(cost, feed_dict={X: train_X, Y: train_Y})\n",
    "    print(\"Training cost=\", training_cost, \"W=\", sess.run(W), \"b=\", sess.run(b), '\\n')\n",
    "\n",
    "    # Graphic display\n",
    "    plt.plot(train_X, train_Y, 'ro', label='Original data')\n",
    "    plt.plot(train_X, sess.run(W) * train_X + sess.run(b), label='Fitted line')\n",
    "    plt.legend()\n",
    "    plt.show()"
   ]
  },
  {
   "cell_type": "code",
   "execution_count": 5,
   "metadata": {},
   "outputs": [
    {
     "name": "stdout",
     "output_type": "stream",
     "text": [
      "Epoch: 0050 cost= 0.096560225 W= 0.17494977 b= 1.3602986\n",
      "Epoch: 0100 cost= 0.104567595 W= 0.16827959 b= 1.4491311\n",
      "Epoch: 0150 cost= 0.106695198 W= 0.16534165 b= 1.4731166\n",
      "Epoch: 0200 cost= 0.107569337 W= 0.16416542 b= 1.4827192\n",
      "Epoch: 0250 cost= 0.107922696 W= 0.16369472 b= 1.4865619\n",
      "Epoch: 0300 cost= 0.108064614 W= 0.16350651 b= 1.4880989\n",
      "Epoch: 0350 cost= 0.108121574 W= 0.16343103 b= 1.4887148\n",
      "Epoch: 0400 cost= 0.108144455 W= 0.16340081 b= 1.4889618\n",
      "Epoch: 0450 cost= 0.108153567 W= 0.1633887 b= 1.4890605\n",
      "Epoch: 0500 cost= 0.108156964 W= 0.1633842 b= 1.4890971\n",
      "Epoch: 0550 cost= 0.108158477 W= 0.16338232 b= 1.4891131\n",
      "Epoch: 0600 cost= 0.108158544 W= 0.16338208 b= 1.4891144\n",
      "Epoch: 0650 cost= 0.108158544 W= 0.16338208 b= 1.4891144\n",
      "Epoch: 0700 cost= 0.108158544 W= 0.16338208 b= 1.4891144\n",
      "Epoch: 0750 cost= 0.108158544 W= 0.16338208 b= 1.4891144\n",
      "Epoch: 0800 cost= 0.108158544 W= 0.16338208 b= 1.4891144\n",
      "Epoch: 0850 cost= 0.108158544 W= 0.16338208 b= 1.4891144\n",
      "Epoch: 0900 cost= 0.108158544 W= 0.16338208 b= 1.4891144\n",
      "Epoch: 0950 cost= 0.108158544 W= 0.16338208 b= 1.4891144\n",
      "Epoch: 1000 cost= 0.108158544 W= 0.16338208 b= 1.4891144\n",
      "Optimization Finished!\n",
      "Training cost= 0.10815854 W= 0.16338208 b= 1.4891144 \n",
      "\n"
     ]
    },
    {
     "data": {
      "image/png": "[encoded data removed]",
      "text/plain": [
       "<Figure size 432x288 with 1 Axes>"
      ]
     },
     "metadata": {
      "needs_background": "light"
     },
     "output_type": "display_data"
    }
   ],
   "source": [
    "def acost(a): return tf.pow(pred-Y, 2) * tf.pow(tf.sign(pred-Y) + a, 2)\n",
    "\n",
    "optimizer = tf.train.GradientDescentOptimizer(learning_rate).minimize(acost(-0.5))\n",
    "init = tf.global_variables_initializer()\n",
    "\n",
    "# Start training\n",
    "with tf.Session() as sess:\n",
    "\n",
    "    # Run the initializer\n",
    "    sess.run(init)\n",
    "\n",
    "    # Fit all training data\n",
    "    for epoch in range(training_epochs):\n",
    "        for (x, y) in zip(train_X, train_Y):\n",
    "            sess.run(optimizer, feed_dict={X: x, Y: y})\n",
    "\n",
    "        # Display logs per epoch step\n",
    "        if (epoch+1) % display_step == 0:\n",
    "            c = sess.run(cost, feed_dict={X: train_X, Y:train_Y})\n",
    "            print(\"Epoch:\", '%04d' % (epoch+1), \"cost=\", \"{:.9f}\".format(c), \\\n",
    "                \"W=\", sess.run(W), \"b=\", sess.run(b))\n",
    "\n",
    "    print(\"Optimization Finished!\")\n",
    "    training_cost = sess.run(cost, feed_dict={X: train_X, Y: train_Y})\n",
    "    print(\"Training cost=\", training_cost, \"W=\", sess.run(W), \"b=\", sess.run(b), '\\n')\n",
    "\n",
    "    # Graphic display\n",
    "    plt.plot(train_X, train_Y, 'ro', label='Original data')\n",
    "    plt.plot(train_X, sess.run(W) * train_X + sess.run(b), label='Fitted line')\n",
    "    plt.legend()\n",
    "    plt.show()"
   ]
  },
  {
   "cell_type": "code",
   "execution_count": null,
   "metadata": {},
   "outputs": [],
   "source": []
  },
  {
   "cell_type": "markdown",
   "metadata": {},
   "source": [
    "#### Reference:\n",
    "1. https://datascience.stackexchange.com/questions/10471/linear-regression-with-non-symmetric-cost-function\n",
    "2. https://github.com/aymericdamien/TensorFlow-Examples/blob/master/examples/2_BasicModels/linear_regression.py"
   ]
  },
  {
   "cell_type": "code",
   "execution_count": null,
   "metadata": {},
   "outputs": [],
   "source": []
  }
 ],
 "metadata": {
  "kernelspec": {
   "display_name": "Python 3",
   "language": "python",
   "name": "python3"
  },
  "language_info": {
   "codemirror_mode": {
    "name": "ipython",
    "version": 3
   },
   "file_extension": ".py",
   "mimetype": "text/x-python",
   "name": "python",
   "nbconvert_exporter": "python",
   "pygments_lexer": "ipython3",
   "version": "3.7.4"
  }
 },
 "nbformat": 4,
 "nbformat_minor": 2
}
